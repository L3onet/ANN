{
 "cells": [
  {
   "cell_type": "code",
   "execution_count": 1,
   "id": "dff4c335",
   "metadata": {},
   "outputs": [
    {
     "data": {
      "text/plain": [
       "(array([0.37476725, 0.95094144, 0.73112044]),\n",
       " array([0.56217429, 0.12017671, 0.08353372]),\n",
       " 0.3269699463777759,\n",
       " -0.7219612816557499)"
      ]
     },
     "execution_count": 1,
     "metadata": {},
     "output_type": "execute_result"
    }
   ],
   "source": [
    "import numpy as np\n",
    "\n",
    "# Definimos las funciones necesarias para la red neuronal\n",
    "def sigmoid(x):\n",
    "    \"\"\"Sigmoidal activation function.\"\"\"\n",
    "    return 1 / (1 + np.exp(-x))\n",
    "\n",
    "def sigmoid_derivative(x):\n",
    "    \"\"\"Derivative of the sigmoidal function.\"\"\"\n",
    "    return x * (1 - x)\n",
    "\n",
    "def xor_output(x1, x2):\n",
    "    \"\"\"XOR function.\"\"\"\n",
    "    return 1 if x1 != x2 else 0\n",
    "\n",
    "# Inicialización de pesos con valores aleatorios\n",
    "np.random.seed(42)  # Semilla para reproducibilidad\n",
    "weights_hidden = np.random.rand(3)  # 2 entradas + 1 bias\n",
    "weights_output = np.random.rand(3)  # 1 salida de neurona oculta + 1 entrada X2 + 1 bias\n",
    "\n",
    "# Tasa de aprendizaje\n",
    "learning_rate = 0.5\n",
    "\n",
    "# Patrones de entrada\n",
    "P1 = np.array([1, 1, 0])  # Añadimos un 1 al inicio para el bias\n",
    "P2 = np.array([1, 1, 1])  # Añadimos un 1 al inicio para el bias\n",
    "\n",
    "# Función de entrenamiento con backpropagation\n",
    "def train_backpropagation(P, W_hidden, W_output, learning_rate):\n",
    "    # Forward pass\n",
    "    hidden_input = np.dot(W_hidden, P)\n",
    "    hidden_output = sigmoid(hidden_input)\n",
    "    output_input = np.dot(W_output, np.array([1, hidden_output, P[2]]))  # Incluye bias y entrada X2\n",
    "    predicted_output = sigmoid(output_input)\n",
    "\n",
    "    # Calculamos el error de la salida\n",
    "    expected_output = xor_output(P[1], P[2])\n",
    "    error = expected_output - predicted_output\n",
    "\n",
    "    # Backward pass\n",
    "    output_delta = error * sigmoid_derivative(predicted_output)\n",
    "    \n",
    "    # Actualizar pesos de la neurona de salida\n",
    "    W_output_adjustments = learning_rate * output_delta * np.array([1, hidden_output, P[2]])\n",
    "    W_output += W_output_adjustments\n",
    "    \n",
    "    # Calcular el error en la capa oculta\n",
    "    hidden_delta = W_output[1] * output_delta * sigmoid_derivative(hidden_output)\n",
    "    \n",
    "    # Actualizar pesos de la neurona oculta\n",
    "    W_hidden_adjustments = learning_rate * hidden_delta * P\n",
    "    W_hidden += W_hidden_adjustments\n",
    "    \n",
    "    return W_hidden, W_output, error\n",
    "\n",
    "# Entrenamos la red para P1 y P2\n",
    "W_hidden, W_output, error_P1 = train_backpropagation(P1, weights_hidden, weights_output, learning_rate)\n",
    "W_hidden, W_output, error_P2 = train_backpropagation(P2, W_hidden, W_output, learning_rate)\n",
    "\n",
    "W_hidden, W_output, error_P1, error_P2"
   ]
  },
  {
   "cell_type": "code",
   "execution_count": null,
   "id": "7ab1d90b",
   "metadata": {},
   "outputs": [],
   "source": []
  }
 ],
 "metadata": {
  "kernelspec": {
   "display_name": "Python 3 (ipykernel)",
   "language": "python",
   "name": "python3"
  },
  "language_info": {
   "codemirror_mode": {
    "name": "ipython",
    "version": 3
   },
   "file_extension": ".py",
   "mimetype": "text/x-python",
   "name": "python",
   "nbconvert_exporter": "python",
   "pygments_lexer": "ipython3",
   "version": "3.9.16"
  }
 },
 "nbformat": 4,
 "nbformat_minor": 5
}
