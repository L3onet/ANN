{
 "cells": [
  {
   "cell_type": "code",
   "execution_count": 1,
   "id": "80741021",
   "metadata": {},
   "outputs": [
    {
     "name": "stdout",
     "output_type": "stream",
     "text": [
      "Punto: [1 1], Peso actualizado: [0.09829603 0.26467189], Sesgo actualizado: 0.15224590233535004, Error: 0.4093226409380689\n",
      "Punto: [1 0], Peso actualizado: [0.15215762 0.26467189], Sesgo actualizado: 0.20610749609280227, Error: 0.43769011554660164\n",
      "Punto: [0 1], Peso actualizado: [0.15215762 0.19183663], Sesgo actualizado: 0.1332722377540133, Error: -0.6155682106536635\n",
      "Pesos finales: [0.15215762 0.19183663], Sesgo final: 0.1332722377540133\n"
     ]
    }
   ],
   "source": [
    "import numpy as np\n",
    "\n",
    "# Definimos la función de activación sigmoidal y la función objetivo f\n",
    "def sigmoid(z):\n",
    "    return 1 / (1 + np.exp(-z))\n",
    "\n",
    "def function_f(x, y):\n",
    "    return 1 if (3 * x + 2 * y) > 2 else 0\n",
    "\n",
    "# Inicializamos los pesos con valores aleatorios y pequeños\n",
    "np.random.seed(0)  # Semilla para reproducibilidad\n",
    "weights = np.random.uniform(-0.5, 0.5, 2)  # Dos pesos para x e y\n",
    "bias = np.random.uniform(-0.5, 0.5)  # Un peso para el sesgo\n",
    "\n",
    "# Factor de aprendizaje\n",
    "learning_rate = 0.5\n",
    "\n",
    "# Definimos la Regla Delta generalizada para actualizar los pesos y el sesgo\n",
    "def update_weights(weights, bias, point, target, learning_rate):\n",
    "    # Calculamos la salida del perceptrón\n",
    "    output = sigmoid(np.dot(weights, point) + bias)\n",
    "    # Calculamos el error\n",
    "    error = target - output\n",
    "    # Calculamos el delta (ajuste) para los pesos y el sesgo\n",
    "    delta_w = learning_rate * error * output * (1 - output) * point\n",
    "    delta_b = learning_rate * error * output * (1 - output)\n",
    "    # Actualizamos los pesos y el sesgo\n",
    "    new_weights = weights + delta_w\n",
    "    new_bias = bias + delta_b\n",
    "    return new_weights, new_bias, error\n",
    "\n",
    "# Puntos y sus respectivos valores de salida según la función f\n",
    "points = np.array([[1, 1], [1, 0], [0, 1]])\n",
    "targets = np.array([function_f(x, y) for x, y in points])\n",
    "\n",
    "# Realizamos una iteración para cada uno de los puntos\n",
    "for point, target in zip(points, targets):\n",
    "    weights, bias, error = update_weights(weights, bias, point, target, learning_rate)\n",
    "    print(f\"Punto: {point}, Peso actualizado: {weights}, Sesgo actualizado: {bias}, Error: {error}\")\n",
    "\n",
    "# Mostramos los pesos finales después de la iteración para cada punto\n",
    "print(f\"Pesos finales: {weights}, Sesgo final: {bias}\")\n"
   ]
  }
 ],
 "metadata": {
  "kernelspec": {
   "display_name": "Python 3 (ipykernel)",
   "language": "python",
   "name": "python3"
  },
  "language_info": {
   "codemirror_mode": {
    "name": "ipython",
    "version": 3
   },
   "file_extension": ".py",
   "mimetype": "text/x-python",
   "name": "python",
   "nbconvert_exporter": "python",
   "pygments_lexer": "ipython3",
   "version": "3.9.16"
  }
 },
 "nbformat": 4,
 "nbformat_minor": 5
}
